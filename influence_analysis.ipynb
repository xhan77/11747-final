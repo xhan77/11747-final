{
 "cells": [
  {
   "cell_type": "code",
   "execution_count": 1,
   "metadata": {},
   "outputs": [],
   "source": [
    "%matplotlib inline\n",
    "import argparse\n",
    "import glob\n",
    "import logging\n",
    "import os\n",
    "import pickle\n",
    "import random\n",
    "import re\n",
    "import csv\n",
    "from typing import Dict, List, Tuple\n",
    "import numpy as np\n",
    "from scipy import stats\n",
    "# from termcolor import colored\n",
    "import matplotlib\n",
    "import matplotlib.pyplot as plt\n",
    "import seaborn as sns\n",
    "from collections import Counter, defaultdict"
   ]
  },
  {
   "cell_type": "code",
   "execution_count": 2,
   "metadata": {},
   "outputs": [
    {
     "name": "stdout",
     "output_type": "stream",
     "text": [
      "test idx: 0  -- most influential train idx: [  64 3384 4935 5589 5104  135 6525 3810 3904 3639]\n",
      "test idx: 1  -- most influential train idx: [ 300 3430 4990 1754  626 5086 3964 5361 4143 2092]\n",
      "test idx: 2  -- most influential train idx: [  64 3384 5589 5309 4872 1795 4935 4127 3639 4176]\n",
      "test idx: 3  -- most influential train idx: [2239 2617 5428 4896 3002 3776 3347 1607 5741 1870]\n",
      "test idx: 4  -- most influential train idx: [6776 5981 1816 4243 4139  919 6011 2274 1404 5247]\n",
      "test idx: 5  -- most influential train idx: [4284 1444 1814 3768 3433 5188 5920 2359 4994 4627]\n",
      "test idx: 6  -- most influential train idx: [ 300 3430 4990 1754 5361 3964 5086 2092  626 6927]\n",
      "test idx: 7  -- most influential train idx: [  64 3384 4176 2171 4872 5970  991 4127 4274 5589]\n",
      "test idx: 8  -- most influential train idx: [  64 1960 3384 3810 3639 4872 5970 4935 4176  645]\n",
      "test idx: 9  -- most influential train idx: [ 300 3430 1754 4990 5086 5361 3964 2092 1630 4143]\n",
      "test idx: 10  -- most influential train idx: [5606 1552 5259 4636 5181 6526 3328  195 6224 5396]\n",
      "test idx: 11  -- most influential train idx: [2080   79 1604 2266 5438  280 3932 4657 1979 5118]\n",
      "test idx: 12  -- most influential train idx: [4993 4294 4204 2953 6040 3697   30 5669 1026 2229]\n",
      "test idx: 13  -- most influential train idx: [6667 6595 2232 1521  591 2619 1428 4924 5361 1081]\n",
      "test idx: 14  -- most influential train idx: [  64 3384 4872 1960 5970 4176 4274  991 2171 4127]\n",
      "test idx: 15  -- most influential train idx: [  64 4872 4176 3384 1960 3639 5970 5589 2171 4935]\n",
      "test idx: 16  -- most influential train idx: [3697 4294 6596 5583 6922 5361 4338 5774 2308 6708]\n",
      "test idx: 17  -- most influential train idx: [ 300 3430 3964 4990 6927 2092 5086 5361 1754 4143]\n",
      "test idx: 18  -- most influential train idx: [4283 4916 1469  598 4462 6462 3683 2770 1330  816]\n",
      "test idx: 19  -- most influential train idx: [  64 3384 1960 4872 5970 4176 2171 4274  991 5241]\n"
     ]
    }
   ],
   "source": [
    "for test_idx in range(0, 20):\n",
    "    influence_list = pickle.load(open(f'GC_outputs/influence_test_idx_{test_idx}.pkl', 'rb'))\n",
    "    print(\"test idx:\", test_idx, \" -- most influential train idx:\", np.argsort(influence_list)[::-1][:10])"
   ]
  },
  {
   "cell_type": "code",
   "execution_count": 3,
   "metadata": {},
   "outputs": [
    {
     "name": "stdout",
     "output_type": "stream",
     "text": [
      "test idx: 0  -- most influential train idx: [3099 3917   91 3179 5723 1452 1061 3414 4338  315]\n",
      "test idx: 1  -- most influential train idx: [5374 4956 4757  170 6346 3383 2486 6289 5421 1700]\n",
      "test idx: 2  -- most influential train idx: [  11 5932 4681 1795 4176 3977 2171 2095 4274 6779]\n",
      "test idx: 3  -- most influential train idx: [5605 2417 6322 4293  498 1097 4492 5878 3469  572]\n",
      "test idx: 4  -- most influential train idx: [4766 6011 6526 5981 5581 4094 6227 2959 6720   36]\n",
      "test idx: 5  -- most influential train idx: [5863   52 3582 6886 6072 6743 5352 6128   54 6786]\n",
      "test idx: 6  -- most influential train idx: [3105 3202 6730 2252  635 2681  388  576 3480 6633]\n",
      "test idx: 7  -- most influential train idx: [3492 1346 2800 6525 5053 3059 4157  620 4432 2990]\n",
      "test idx: 8  -- most influential train idx: [ 192 6965 4511 4621 1764 6680 6438 2663 5963 4942]\n",
      "test idx: 9  -- most influential train idx: [3099  576 3074 2589 3046 2070 5450 6157  486 4381]\n",
      "test idx: 10  -- most influential train idx: [3354 2207 3328 3418 1298  774 1677 5613 4214 3989]\n",
      "test idx: 11  -- most influential train idx: [4728 3917 3285 6280 1155 6254 5735 5087   79 5089]\n",
      "test idx: 12  -- most influential train idx: [3515 3815 3027 3334 4328  791 6840 6948 5329 6691]\n",
      "test idx: 13  -- most influential train idx: [4134 2619 4311  525 3912 3233 6683  676 5461 4896]\n",
      "test idx: 14  -- most influential train idx: [5172 1347  177 6766  397 6176 5839  567 6007 3084]\n",
      "test idx: 15  -- most influential train idx: [1713 6341 3494 3892 5267 5222 5398  949 3835 1892]\n",
      "test idx: 16  -- most influential train idx: [6547 2169 1522 2119 3509 4957 5129 2810  220 2348]\n",
      "test idx: 17  -- most influential train idx: [4896 3144 6011 4311   26  389 5151 2425 4259 2239]\n",
      "test idx: 18  -- most influential train idx: [2258 4710 5057 2636 2325 5855 4100 1076 4062 4511]\n",
      "test idx: 19  -- most influential train idx: [2192 1474 2308 4619 4819 5452 4612 4485 2698  939]\n"
     ]
    }
   ],
   "source": [
    "for test_idx in range(0, 20):\n",
    "    influence_list = pickle.load(open(f'GC_nocontra_outputs/influence_test_idx_{test_idx}.pkl', 'rb'))\n",
    "    print(\"test idx:\", test_idx, \" -- most influential train idx:\", np.argsort(influence_list)[::-1][:10])"
   ]
  },
  {
   "cell_type": "code",
   "execution_count": null,
   "metadata": {},
   "outputs": [],
   "source": []
  },
  {
   "cell_type": "code",
   "execution_count": 4,
   "metadata": {},
   "outputs": [
    {
     "data": {
      "text/plain": [
       "<matplotlib.axes._subplots.AxesSubplot at 0x7fceeed424a8>"
      ]
     },
     "execution_count": 4,
     "metadata": {},
     "output_type": "execute_result"
    },
    {
     "data": {
      "image/png": "[encoded data removed]",
      "text/plain": [
       "<Figure size 432x288 with 1 Axes>"
      ]
     },
     "metadata": {
      "needs_background": "light"
     },
     "output_type": "display_data"
    }
   ],
   "source": [
    "test_idx = 0\n",
    "\n",
    "influence_list = pickle.load(open(f'GC_outputs/influence_test_idx_{test_idx}.pkl', 'rb'))\n",
    "sns.distplot(influence_list)"
   ]
  },
  {
   "cell_type": "code",
   "execution_count": 5,
   "metadata": {},
   "outputs": [
    {
     "name": "stdout",
     "output_type": "stream",
     "text": [
      "Top-1 set cardinality: 11 (20 test examples)\n",
      "Top-10 set cardinality: 120 (20 test examples)\n"
     ]
    }
   ],
   "source": [
    "test_idx_lb = 0\n",
    "test_idx_ub = 20\n",
    "influence_file_dir = 'GC_outputs/'\n",
    "\n",
    "top_1_inf_ex_set = set()\n",
    "top_10_inf_ex_set = set()\n",
    "\n",
    "for test_idx in range(test_idx_lb, test_idx_ub):\n",
    "    influence_list = pickle.load(open(f'{influence_file_dir}influence_test_idx_{test_idx}.pkl', 'rb'))\n",
    "    inf_sorted_idx = list(np.argsort(influence_list))\n",
    "    inf_sorted_idx.reverse()\n",
    "    for _i, isi in enumerate(inf_sorted_idx):\n",
    "        if _i < 1:\n",
    "            top_1_inf_ex_set.add(isi)\n",
    "        if _i < 10:\n",
    "            top_10_inf_ex_set.add(isi)\n",
    "\n",
    "print('Top-1 set cardinality:', len(top_1_inf_ex_set), f'({test_idx_ub - test_idx_lb} test examples)')\n",
    "print('Top-10 set cardinality:', len(top_10_inf_ex_set), f'({test_idx_ub - test_idx_lb} test examples)')"
   ]
  },
  {
   "cell_type": "code",
   "execution_count": 6,
   "metadata": {},
   "outputs": [
    {
     "name": "stdout",
     "output_type": "stream",
     "text": [
      "Top-1 set cardinality: 19 (20 test examples)\n",
      "Top-10 set cardinality: 193 (20 test examples)\n"
     ]
    }
   ],
   "source": [
    "test_idx_lb = 0\n",
    "test_idx_ub = 20\n",
    "influence_file_dir = 'GC_nocontra_outputs/'\n",
    "\n",
    "top_1_inf_ex_set = set()\n",
    "top_10_inf_ex_set = set()\n",
    "\n",
    "for test_idx in range(test_idx_lb, test_idx_ub):\n",
    "    influence_list = pickle.load(open(f'{influence_file_dir}influence_test_idx_{test_idx}.pkl', 'rb'))\n",
    "    inf_sorted_idx = list(np.argsort(influence_list))\n",
    "    inf_sorted_idx.reverse()\n",
    "    for _i, isi in enumerate(inf_sorted_idx):\n",
    "        if _i < 1:\n",
    "            top_1_inf_ex_set.add(isi)\n",
    "        if _i < 10:\n",
    "            top_10_inf_ex_set.add(isi)\n",
    "\n",
    "print('Top-1 set cardinality:', len(top_1_inf_ex_set), f'({test_idx_ub - test_idx_lb} test examples)')\n",
    "print('Top-10 set cardinality:', len(top_10_inf_ex_set), f'({test_idx_ub - test_idx_lb} test examples)')"
   ]
  },
  {
   "cell_type": "code",
   "execution_count": null,
   "metadata": {},
   "outputs": [],
   "source": []
  }
 ],
 "metadata": {
  "kernelspec": {
   "display_name": "Python 3",
   "language": "python",
   "name": "python3"
  },
  "language_info": {
   "codemirror_mode": {
    "name": "ipython",
    "version": 3
   },
   "file_extension": ".py",
   "mimetype": "text/x-python",
   "name": "python",
   "nbconvert_exporter": "python",
   "pygments_lexer": "ipython3",
   "version": "3.7.3"
  }
 },
 "nbformat": 4,
 "nbformat_minor": 4
}
