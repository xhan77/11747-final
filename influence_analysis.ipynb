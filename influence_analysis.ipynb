{
 "cells": [
  {
   "cell_type": "code",
   "execution_count": 1,
   "metadata": {},
   "outputs": [],
   "source": [
    "%matplotlib inline\n",
    "import argparse\n",
    "import glob\n",
    "import logging\n",
    "import os\n",
    "import pickle\n",
    "import random\n",
    "import re\n",
    "import csv\n",
    "from typing import Dict, List, Tuple\n",
    "import numpy as np\n",
    "from scipy import stats\n",
    "# from termcolor import colored\n",
    "import matplotlib\n",
    "import matplotlib.pyplot as plt\n",
    "import seaborn as sns\n",
    "from collections import Counter, defaultdict\n",
    "import torch"
   ]
  },
  {
   "cell_type": "code",
   "execution_count": 6,
   "metadata": {},
   "outputs": [],
   "source": [
    "def load_per_layer_influence(directory, test_idx, layer_i):\n",
    "    per_layer_dict = torch.load(f\"{directory}/influence_dict.pt\")\n",
    "    influence_list = per_layer_dict[layer_i][test_idx]\n",
    "    return influence_list"
   ]
  },
  {
   "cell_type": "code",
   "execution_count": 7,
   "metadata": {},
   "outputs": [],
   "source": [
    "with open(\"data/train.txt\", \"r\") as file:\n",
    "    train_examples = [line.strip() for line in file]\n",
    "with open(\"data/unrolled_train.txt\", \"r\") as file:\n",
    "    unrolled_train_examples = [line.strip() for line in file]\n",
    "with open(\"data/test.txt\", \"r\") as file:\n",
    "    test_examples = [line.strip() for line in file]\n",
    "    \n",
    "def see_example(data, idx):\n",
    "    example = data[idx]\n",
    "    correct, wrong = list(map(lambda x: x.split(), example.split(\"\\t\")))\n",
    "    for c, w in zip(correct, wrong):\n",
    "        if c != w:\n",
    "            o = '  ||  '.join(example.split('\\t'))\n",
    "            print(f\"{c} / {w}: {o}\")\n",
    "            return\n",
    "\n",
    "def see_train_example(data, idx, mode='correct'):\n",
    "    example = data[idx]\n",
    "    correct, wrong = list(map(lambda x: x.split(), example.split(\"\\t\")))\n",
    "    for c, w in zip(correct, wrong):\n",
    "        if c != w:\n",
    "            o = '  ||  '.join(example.split('\\t'))\n",
    "            if mode == 'incorrect':\n",
    "                print(f\"[{c}] / {w} (WRONG): {o}\")\n",
    "                return\n",
    "            print(f\"[{c}] / {w}: {o}\")\n",
    "            return\n",
    "        \n",
    "def see_example_key(data, idx, mode='correct'):\n",
    "    example = data[idx]\n",
    "    correct, wrong = list(map(lambda x: x.split(), example.split(\"\\t\")))\n",
    "    for c, w in zip(correct, wrong):\n",
    "        if c != w:\n",
    "            return f\"{c} / {w}\""
   ]
  },
  {
   "cell_type": "code",
   "execution_count": 8,
   "metadata": {},
   "outputs": [
    {
     "name": "stdout",
     "output_type": "stream",
     "text": [
      "are / is: note that neckties are cut on the bias ( diagonally ) , so the stripes on the source cloth are parallel or perpendicular to the selvage , not diagonal .  ||  note that neckties are cut on the bias ( diagonally ) , so the stripes on the source cloth is parallel or perpendicular to the selvage , not diagonal .\n"
     ]
    }
   ],
   "source": [
    "see_example(test_examples, 0)"
   ]
  },
  {
   "cell_type": "code",
   "execution_count": 9,
   "metadata": {},
   "outputs": [
    {
     "name": "stdout",
     "output_type": "stream",
     "text": [
      "[are] / is: travelling backwards in time and travelling faster than the speed of light ( which i expect are the two things you are really asking about ) are essentially the same thing , according to general relativity ( just from a different point of view ) .  ||  travelling backwards in time and travelling faster than the speed of light ( which i expect is the two things you are really asking about ) are essentially the same thing , according to general relativity ( just from a different point of view ) .\n"
     ]
    }
   ],
   "source": [
    "see_train_example(train_examples, 64)"
   ]
  },
  {
   "cell_type": "code",
   "execution_count": 10,
   "metadata": {},
   "outputs": [
    {
     "name": "stdout",
     "output_type": "stream",
     "text": [
      "[are] / is: the ruins of the abbey are open to the public and are privately owned .  ||  the ruins of the abbey is open to the public and are privately owned .\n"
     ]
    }
   ],
   "source": [
    "see_train_example(train_examples, 3384)"
   ]
  },
  {
   "cell_type": "code",
   "execution_count": 11,
   "metadata": {},
   "outputs": [
    {
     "name": "stdout",
     "output_type": "stream",
     "text": [
      "[is] / are: as a consequence of being mostly privately owned , the town is very opulently designed .  ||  as a consequence of being mostly privately owned , the town are very opulently designed .\n"
     ]
    }
   ],
   "source": [
    "see_train_example(unrolled_train_examples, 0)"
   ]
  },
  {
   "cell_type": "code",
   "execution_count": 12,
   "metadata": {},
   "outputs": [
    {
     "name": "stdout",
     "output_type": "stream",
     "text": [
      "[are] / is: as a consequence of being mostly privately owned , the town are very opulently designed .  ||  as a consequence of being mostly privately owned , the town is very opulently designed .\n"
     ]
    }
   ],
   "source": [
    "see_train_example(unrolled_train_examples, 7000)"
   ]
  },
  {
   "cell_type": "markdown",
   "metadata": {},
   "source": [
    "### Show most influential training examples"
   ]
  },
  {
   "cell_type": "code",
   "execution_count": 13,
   "metadata": {},
   "outputs": [],
   "source": [
    "def show_most_influential(directory, test_idx, mode='positive', per_layer=-1):\n",
    "    if per_layer == -1:\n",
    "        influence_list = pickle.load(open(f'{directory}/influence_test_idx_{test_idx}.pkl', 'rb'))\n",
    "    else:\n",
    "        influence_list = load_per_layer_influence(directory, test_idx, per_layer)\n",
    "    if mode == 'positive':\n",
    "        sorted_idx = np.argsort(influence_list)[::-1]\n",
    "    elif mode == 'negative':\n",
    "        sorted_idx = np.argsort(influence_list)\n",
    "    else:\n",
    "        raise ValueError('n/a')\n",
    "    see_example(test_examples, test_idx)\n",
    "    print()\n",
    "    print(\"test idx:\", test_idx, \" -- most influential train idx:\", sorted_idx[:10])\n",
    "    print(\"################\")\n",
    "    for idx in sorted_idx[:10]:\n",
    "        print()\n",
    "        if 'unroll' in directory:\n",
    "            if idx >= 7000:\n",
    "                see_train_example(unrolled_train_examples, idx, mode='incorrect')\n",
    "            else:\n",
    "                see_train_example(unrolled_train_examples, idx, mode='correct')\n",
    "        else:\n",
    "            see_train_example(train_examples, idx)"
   ]
  },
  {
   "cell_type": "code",
   "execution_count": 127,
   "metadata": {},
   "outputs": [],
   "source": [
    "def plot_most_influential(directory, test_idx, mode='positive', per_layer=-1):\n",
    "    if per_layer == -1:\n",
    "        influence_list = pickle.load(open(f'{directory}/influence_test_idx_{test_idx}.pkl', 'rb'))\n",
    "    else:\n",
    "        influence_list = load_per_layer_influence(directory, test_idx, per_layer)\n",
    "    if mode == 'positive':\n",
    "        sorted_idx = np.argsort(influence_list)[::-1]\n",
    "    elif mode == 'negative':\n",
    "        sorted_idx = np.argsort(influence_list)\n",
    "    else:\n",
    "        raise ValueError('n/a')\n",
    "    see_example(test_examples, test_idx)\n",
    "    test_key = see_example_key(test_examples, test_idx)\n",
    "    print()\n",
    "    print(\"test idx:\", test_idx, \" -- most influential train idx:\", sorted_idx)\n",
    "    print(\"################\")\n",
    "    correct_influence_ranks = []\n",
    "    incorrect_influence_ranks = []\n",
    "    for _i, idx in enumerate(sorted_idx):\n",
    "        if 'unroll' in directory:\n",
    "#             if set(see_example_key(unrolled_train_examples, idx).split(' / ')) != set(test_key.split(' / ')):\n",
    "#                 continue\n",
    "            if idx >= 7000:\n",
    "                incorrect_influence_ranks.append(_i) # influence_list[idx]\n",
    "            else:\n",
    "                correct_influence_ranks.append(_i) # influence_list[idx]\n",
    "        else:\n",
    "            pass\n",
    "    plt.figure(figsize=(6,3))\n",
    "    sns.distplot(correct_influence_ranks, label='correct')\n",
    "    sns.distplot(incorrect_influence_ranks, label='incorrect')\n",
    "    plt.legend()\n",
    "    plt.xlabel(\"influence rank\")\n",
    "    plt.ylabel(\"frequency\")\n",
    "    plt.show()"
   ]
  },
  {
   "cell_type": "code",
   "execution_count": 98,
   "metadata": {},
   "outputs": [
    {
     "name": "stdout",
     "output_type": "stream",
     "text": [
      "has / have: according with the map of urban hierarchy of brazil , três pontas is classified as a center of zone b , that means the city has a small regional influence , restricted to small cities which três pontas is bordered .  ||  according with the map of urban hierarchy of brazil , três pontas is classified as a center of zone b , that means the city have a small regional influence , restricted to small cities which três pontas is bordered .\n",
      "\n",
      "test idx: 18  -- most influential train idx: [13498 12016 10407  7549  7598 12042  9901 10691  8599  4283]\n",
      "################\n",
      "\n",
      "[has] / have (WRONG): in the twentieth century , the movements of logical positivism and ordinary language philosophy has similarities with pragmatism .  ||  in the twentieth century , the movements of logical positivism and ordinary language philosophy have similarities with pragmatism .\n",
      "\n",
      "[has] / have (WRONG): composers throughout history has freely `` borrowed '' inspiration from each other perfectly legitimately .  ||  composers throughout history have freely `` borrowed '' inspiration from each other perfectly legitimately .\n",
      "\n",
      "[has] / have (WRONG): most educational institutions that hold a class secretary position also has a handbook that lays out the responsibilities and what is expected of the person who has either been elected or volunteered as class secretary .  ||  most educational institutions that hold a class secretary position also have a handbook that lays out the responsibilities and what is expected of the person who has either been elected or volunteered as class secretary .\n",
      "\n",
      "[has] / have (WRONG): these effects of the urban forest on ozone production has only recently been discovered by the scientific community , so extensive and conclusive research has not yet been conducted .  ||  these effects of the urban forest on ozone production have only recently been discovered by the scientific community , so extensive and conclusive research has not yet been conducted .\n",
      "\n",
      "[are] / is (WRONG): although the quarry are 142 m deep and has a diameter of 120 m it has been neglected and is now filled with water .  ||  although the quarry is 142 m deep and has a diameter of 120 m it has been neglected and is now filled with water .\n",
      "\n",
      "[has] / have (WRONG): many pro users who come to the talk page , has their text hidden or deleted .  ||  many pro users who come to the talk page , have their text hidden or deleted .\n",
      "\n",
      "[has] / have (WRONG): all the individual titles already has articles .  ||  all the individual titles already have articles .\n",
      "\n",
      "[has] / have (WRONG): actually , very few american pageant winners on the state or town level has pages .  ||  actually , very few american pageant winners on the state or town level have pages .\n",
      "\n",
      "[has] / have (WRONG): however , their names also has an underlying meaning .  ||  however , their names also have an underlying meaning .\n",
      "\n",
      "[has] / have: the average faculty member has 16 years of experience .  ||  the average faculty member have 16 years of experience .\n"
     ]
    }
   ],
   "source": [
    "show_most_influential('unrolled_train_GC_outputs', 18, mode='positive')"
   ]
  },
  {
   "cell_type": "code",
   "execution_count": 128,
   "metadata": {},
   "outputs": [
    {
     "name": "stdout",
     "output_type": "stream",
     "text": [
      "has / have: according with the map of urban hierarchy of brazil , três pontas is classified as a center of zone b , that means the city has a small regional influence , restricted to small cities which três pontas is bordered .  ||  according with the map of urban hierarchy of brazil , três pontas is classified as a center of zone b , that means the city have a small regional influence , restricted to small cities which três pontas is bordered .\n",
      "\n",
      "test idx: 18  -- most influential train idx: [13498 12016 10407 ... 12686 10732  2080]\n",
      "################\n"
     ]
    },
    {
     "data": {
      "image/png": "[encoded data removed]",
      "text/plain": [
       "<Figure size 432x216 with 1 Axes>"
      ]
     },
     "metadata": {
      "needs_background": "light"
     },
     "output_type": "display_data"
    }
   ],
   "source": [
    "plot_most_influential('unrolled_train_GC_outputs', 18)"
   ]
  },
  {
   "cell_type": "code",
   "execution_count": 100,
   "metadata": {},
   "outputs": [
    {
     "name": "stdout",
     "output_type": "stream",
     "text": [
      "has / have: according with the map of urban hierarchy of brazil , três pontas is classified as a center of zone b , that means the city has a small regional influence , restricted to small cities which três pontas is bordered .  ||  according with the map of urban hierarchy of brazil , três pontas is classified as a center of zone b , that means the city have a small regional influence , restricted to small cities which três pontas is bordered .\n",
      "\n",
      "test idx: 18  -- most influential train idx: [4283 5686 4916 4462  598 1469  856 3683 1330  102]\n",
      "################\n",
      "\n",
      "[has] / have: the average faculty member has 16 years of experience .  ||  the average faculty member have 16 years of experience .\n",
      "\n",
      "[has] / have: the village also has many wells .  ||  the village also have many wells .\n",
      "\n",
      "[has] / have: this page has the cherokee syllabary .  ||  this page have the cherokee syllabary .\n",
      "\n",
      "[has] / have: new system posting of the trains has arrival .  ||  new system posting of the trains have arrival .\n",
      "\n",
      "[is] / are: although the quarry is 142 m deep and has a diameter of 120 m it has been neglected and is now filled with water .  ||  although the quarry are 142 m deep and has a diameter of 120 m it has been neglected and is now filled with water .\n",
      "\n",
      "[has] / have: the article has a really good skeleton , but too much has been piled onto it , and unevenly at that .  ||  the article have a really good skeleton , but too much has been piled onto it , and unevenly at that .\n",
      "\n",
      "[work] / works: theo misses work because he has fallen seriously ill .  ||  theo misses works because he has fallen seriously ill .\n",
      "\n",
      "[include] / includes: dickinson 's interests include literature , writing , fencing ( at which he has competed internationally , placing 7th in great britain , and has founded a fencing equipment company under the brand name `` duellist '' ) , railway technology and aviation .  ||  dickinson 's interests includes literature , writing , fencing ( at which he has competed internationally , placing 7th in great britain , and has founded a fencing equipment company under the brand name `` duellist '' ) , railway technology and aviation .\n",
      "\n",
      "[has] / have: support ( ish ) not a major contributor but no obvious problems , clearly intelligent , has clue , has served time at npp ( log ) .  ||  support ( ish ) not a major contributor but no obvious problems , clearly intelligent , have clue , has served time at npp ( log ) .\n",
      "\n",
      "[has] / have: the place also has a small shrine .  ||  the place also have a small shrine .\n"
     ]
    }
   ],
   "source": [
    "show_most_influential('init_GPT2_GC_outputs', 18, mode='positive', per_layer=-1) # 18 could be a good example comparing contra vs non-contra"
   ]
  },
  {
   "cell_type": "code",
   "execution_count": 117,
   "metadata": {},
   "outputs": [
    {
     "name": "stdout",
     "output_type": "stream",
     "text": [
      "has / have: according with the map of urban hierarchy of brazil , três pontas is classified as a center of zone b , that means the city has a small regional influence , restricted to small cities which três pontas is bordered .  ||  according with the map of urban hierarchy of brazil , três pontas is classified as a center of zone b , that means the city have a small regional influence , restricted to small cities which três pontas is bordered .\n",
      "\n",
      "test idx: 18  -- most influential train idx: [4207 5229 2774 4623 5272 6049 5147 3735 2574  117]\n",
      "################\n",
      "\n",
      "[are] / is: it has been shown that females who have a family history of substance abuse are more likely to suffer from substance abuse than males .  ||  it has been shown that females who have a family history of substance abuse is more likely to suffer from substance abuse than males .\n",
      "\n",
      "[exists] / exist: there are plenty of references to prove that the museum exists , even though it seems to have altered its name a few times .  ||  there are plenty of references to prove that the museum exist , even though it seems to have altered its name a few times .\n",
      "\n",
      "[is] / are: one of the things that makes this bicycle tour significant is that it has been around since 1989 .  ||  one of the things that makes this bicycle tour significant are that it has been around since 1989 .\n",
      "\n",
      "[is] / are: the way to deal with weak articles is to improve them , not delete them .  ||  the way to deal with weak articles are to improve them , not delete them .\n",
      "\n",
      "[are] / is: thanks for your work on this article , here are some more suggestions for improvement .  ||  thanks for your work on this article , here is some more suggestions for improvement .\n",
      "\n",
      "[are] / is: as a result , contemporary accounts of his life , particularly his childhood and youth , are virtually non-existent .  ||  as a result , contemporary accounts of his life , particularly his childhood and youth , is virtually non-existent .\n",
      "\n",
      "[leads] / lead: the small number of routes generally leads to more efficient use of transportation resources .  ||  the small number of routes generally lead to more efficient use of transportation resources .\n",
      "\n",
      "[are] / is: today , there are no active farms on the island , but farm buildings , abandoned machinery , the old school and cemetery are reminders of the past .  ||  today , there are no active farms on the island , but farm buildings , abandoned machinery , the old school and cemetery is reminders of the past .\n",
      "\n",
      "[are] / is: in general , the russian laws concerning inheritance are simple and straightforward .  ||  in general , the russian laws concerning inheritance is simple and straightforward .\n",
      "\n",
      "[reflect] / reflects: others , such as claude lévi-strauss ( who was influenced both by american cultural anthropology and by french durkheimian sociology ) , have argued that apparently similar patterns of development reflect fundamental similarities in the structure of human thought ( see structuralism ) .  ||  others , such as claude lévi-strauss ( who was influenced both by american cultural anthropology and by french durkheimian sociology ) , have argued that apparently similar patterns of development reflects fundamental similarities in the structure of human thought ( see structuralism ) .\n"
     ]
    }
   ],
   "source": [
    "show_most_influential('GC_per_layer_outputs', 18, mode='positive', per_layer=11)"
   ]
  },
  {
   "cell_type": "code",
   "execution_count": null,
   "metadata": {},
   "outputs": [],
   "source": []
  },
  {
   "cell_type": "code",
   "execution_count": 2,
   "metadata": {},
   "outputs": [
    {
     "name": "stdout",
     "output_type": "stream",
     "text": [
      "test idx: 0  -- most influential train idx: [  64 3384 4935 5589 5104  135 6525 3810 3904 3639]\n",
      "test idx: 1  -- most influential train idx: [ 300 3430 4990 1754  626 5086 3964 5361 4143 2092]\n",
      "test idx: 2  -- most influential train idx: [  64 3384 5589 5309 4872 1795 4935 4127 3639 4176]\n",
      "test idx: 3  -- most influential train idx: [2239 2617 5428 4896 3002 3776 3347 1607 5741 1870]\n",
      "test idx: 4  -- most influential train idx: [6776 5981 1816 4243 4139  919 6011 2274 1404 5247]\n",
      "test idx: 5  -- most influential train idx: [4284 1444 1814 3768 3433 5188 5920 2359 4994 4627]\n",
      "test idx: 6  -- most influential train idx: [ 300 3430 4990 1754 5361 3964 5086 2092  626 6927]\n",
      "test idx: 7  -- most influential train idx: [  64 3384 4176 2171 4872 5970  991 4127 4274 5589]\n",
      "test idx: 8  -- most influential train idx: [  64 1960 3384 3810 3639 4872 5970 4935 4176  645]\n",
      "test idx: 9  -- most influential train idx: [ 300 3430 1754 4990 5086 5361 3964 2092 1630 4143]\n",
      "test idx: 10  -- most influential train idx: [5606 1552 5259 4636 5181 6526 3328  195 6224 5396]\n",
      "test idx: 11  -- most influential train idx: [2080   79 1604 2266 5438  280 3932 4657 1979 5118]\n",
      "test idx: 12  -- most influential train idx: [4993 4294 4204 2953 6040 3697   30 5669 1026 2229]\n",
      "test idx: 13  -- most influential train idx: [6667 6595 2232 1521  591 2619 1428 4924 5361 1081]\n",
      "test idx: 14  -- most influential train idx: [  64 3384 4872 1960 5970 4176 4274  991 2171 4127]\n",
      "test idx: 15  -- most influential train idx: [  64 4872 4176 3384 1960 3639 5970 5589 2171 4935]\n",
      "test idx: 16  -- most influential train idx: [3697 4294 6596 5583 6922 5361 4338 5774 2308 6708]\n",
      "test idx: 17  -- most influential train idx: [ 300 3430 3964 4990 6927 2092 5086 5361 1754 4143]\n",
      "test idx: 18  -- most influential train idx: [4283 4916 1469  598 4462 6462 3683 2770 1330  816]\n",
      "test idx: 19  -- most influential train idx: [  64 3384 1960 4872 5970 4176 2171 4274  991 5241]\n"
     ]
    }
   ],
   "source": [
    "for test_idx in range(0, 20):\n",
    "    influence_list = pickle.load(open(f'GC_outputs/influence_test_idx_{test_idx}.pkl', 'rb'))\n",
    "    print(\"test idx:\", test_idx, \" -- most influential train idx:\", np.argsort(influence_list)[::-1][:10])"
   ]
  },
  {
   "cell_type": "code",
   "execution_count": 3,
   "metadata": {},
   "outputs": [
    {
     "name": "stdout",
     "output_type": "stream",
     "text": [
      "test idx: 0  -- most influential train idx: [3099 3917   91 3179 5723 1452 1061 3414 4338  315]\n",
      "test idx: 1  -- most influential train idx: [5374 4956 4757  170 6346 3383 2486 6289 5421 1700]\n",
      "test idx: 2  -- most influential train idx: [  11 5932 4681 1795 4176 3977 2171 2095 4274 6779]\n",
      "test idx: 3  -- most influential train idx: [5605 2417 6322 4293  498 1097 4492 5878 3469  572]\n",
      "test idx: 4  -- most influential train idx: [4766 6011 6526 5981 5581 4094 6227 2959 6720   36]\n",
      "test idx: 5  -- most influential train idx: [5863   52 3582 6886 6072 6743 5352 6128   54 6786]\n",
      "test idx: 6  -- most influential train idx: [3105 3202 6730 2252  635 2681  388  576 3480 6633]\n",
      "test idx: 7  -- most influential train idx: [3492 1346 2800 6525 5053 3059 4157  620 4432 2990]\n",
      "test idx: 8  -- most influential train idx: [ 192 6965 4511 4621 1764 6680 6438 2663 5963 4942]\n",
      "test idx: 9  -- most influential train idx: [3099  576 3074 2589 3046 2070 5450 6157  486 4381]\n",
      "test idx: 10  -- most influential train idx: [3354 2207 3328 3418 1298  774 1677 5613 4214 3989]\n",
      "test idx: 11  -- most influential train idx: [4728 3917 3285 6280 1155 6254 5735 5087   79 5089]\n",
      "test idx: 12  -- most influential train idx: [3515 3815 3027 3334 4328  791 6840 6948 5329 6691]\n",
      "test idx: 13  -- most influential train idx: [4134 2619 4311  525 3912 3233 6683  676 5461 4896]\n",
      "test idx: 14  -- most influential train idx: [5172 1347  177 6766  397 6176 5839  567 6007 3084]\n",
      "test idx: 15  -- most influential train idx: [1713 6341 3494 3892 5267 5222 5398  949 3835 1892]\n",
      "test idx: 16  -- most influential train idx: [6547 2169 1522 2119 3509 4957 5129 2810  220 2348]\n",
      "test idx: 17  -- most influential train idx: [4896 3144 6011 4311   26  389 5151 2425 4259 2239]\n",
      "test idx: 18  -- most influential train idx: [2258 4710 5057 2636 2325 5855 4100 1076 4062 4511]\n",
      "test idx: 19  -- most influential train idx: [2192 1474 2308 4619 4819 5452 4612 4485 2698  939]\n"
     ]
    }
   ],
   "source": [
    "for test_idx in range(0, 20):\n",
    "    influence_list = pickle.load(open(f'GC_nocontra_outputs/influence_test_idx_{test_idx}.pkl', 'rb'))\n",
    "    print(\"test idx:\", test_idx, \" -- most influential train idx:\", np.argsort(influence_list)[::-1][:10])"
   ]
  },
  {
   "cell_type": "code",
   "execution_count": null,
   "metadata": {},
   "outputs": [],
   "source": []
  },
  {
   "cell_type": "code",
   "execution_count": 4,
   "metadata": {},
   "outputs": [
    {
     "data": {
      "text/plain": [
       "<matplotlib.axes._subplots.AxesSubplot at 0x7fceeed424a8>"
      ]
     },
     "execution_count": 4,
     "metadata": {},
     "output_type": "execute_result"
    },
    {
     "data": {
      "image/png": "[encoded data removed]",
      "text/plain": [
       "<Figure size 432x288 with 1 Axes>"
      ]
     },
     "metadata": {
      "needs_background": "light"
     },
     "output_type": "display_data"
    }
   ],
   "source": [
    "test_idx = 0\n",
    "\n",
    "influence_list = pickle.load(open(f'GC_outputs/influence_test_idx_{test_idx}.pkl', 'rb'))\n",
    "sns.distplot(influence_list)"
   ]
  },
  {
   "cell_type": "code",
   "execution_count": 96,
   "metadata": {},
   "outputs": [
    {
     "name": "stdout",
     "output_type": "stream",
     "text": [
      "Top-1 set cardinality: 13 (20 test examples)\n",
      "Top-10 set cardinality: 113 (20 test examples)\n"
     ]
    }
   ],
   "source": [
    "test_idx_lb = 0\n",
    "test_idx_ub = 20\n",
    "influence_file_dir = 'init_GPT2_GC_outputs/'\n",
    "\n",
    "top_1_inf_ex_set = set()\n",
    "top_10_inf_ex_set = set()\n",
    "\n",
    "for test_idx in range(test_idx_lb, test_idx_ub):\n",
    "    influence_list = pickle.load(open(f'{influence_file_dir}influence_test_idx_{test_idx}.pkl', 'rb'))\n",
    "    inf_sorted_idx = list(np.argsort(influence_list))\n",
    "    inf_sorted_idx.reverse()\n",
    "    for _i, isi in enumerate(inf_sorted_idx):\n",
    "        if _i < 1:\n",
    "            top_1_inf_ex_set.add(isi)\n",
    "        if _i < 10:\n",
    "            top_10_inf_ex_set.add(isi)\n",
    "\n",
    "print('Top-1 set cardinality:', len(top_1_inf_ex_set), f'({test_idx_ub - test_idx_lb} test examples)')\n",
    "print('Top-10 set cardinality:', len(top_10_inf_ex_set), f'({test_idx_ub - test_idx_lb} test examples)')"
   ]
  },
  {
   "cell_type": "code",
   "execution_count": 97,
   "metadata": {},
   "outputs": [
    {
     "name": "stdout",
     "output_type": "stream",
     "text": [
      "Top-1 set cardinality: 20 (20 test examples)\n",
      "Top-10 set cardinality: 185 (20 test examples)\n"
     ]
    }
   ],
   "source": [
    "test_idx_lb = 0\n",
    "test_idx_ub = 20\n",
    "influence_file_dir = 'init_GPT2_GC_nocontra_outputs/'\n",
    "\n",
    "top_1_inf_ex_set = set()\n",
    "top_10_inf_ex_set = set()\n",
    "\n",
    "for test_idx in range(test_idx_lb, test_idx_ub):\n",
    "    influence_list = pickle.load(open(f'{influence_file_dir}influence_test_idx_{test_idx}.pkl', 'rb'))\n",
    "    inf_sorted_idx = list(np.argsort(influence_list))\n",
    "    inf_sorted_idx.reverse()\n",
    "    for _i, isi in enumerate(inf_sorted_idx):\n",
    "        if _i < 1:\n",
    "            top_1_inf_ex_set.add(isi)\n",
    "        if _i < 10:\n",
    "            top_10_inf_ex_set.add(isi)\n",
    "\n",
    "print('Top-1 set cardinality:', len(top_1_inf_ex_set), f'({test_idx_ub - test_idx_lb} test examples)')\n",
    "print('Top-10 set cardinality:', len(top_10_inf_ex_set), f'({test_idx_ub - test_idx_lb} test examples)')"
   ]
  },
  {
   "cell_type": "code",
   "execution_count": null,
   "metadata": {},
   "outputs": [],
   "source": []
  }
 ],
 "metadata": {
  "kernelspec": {
   "display_name": "Python 3",
   "language": "python",
   "name": "python3"
  },
  "language_info": {
   "codemirror_mode": {
    "name": "ipython",
    "version": 3
   },
   "file_extension": ".py",
   "mimetype": "text/x-python",
   "name": "python",
   "nbconvert_exporter": "python",
   "pygments_lexer": "ipython3",
   "version": "3.7.3"
  }
 },
 "nbformat": 4,
 "nbformat_minor": 4
}
