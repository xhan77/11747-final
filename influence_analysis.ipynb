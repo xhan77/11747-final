{
 "cells": [
  {
   "cell_type": "code",
   "execution_count": 1,
   "metadata": {},
   "outputs": [],
   "source": [
    "%matplotlib inline\n",
    "import argparse\n",
    "import glob\n",
    "import logging\n",
    "import os\n",
    "import pickle\n",
    "import random\n",
    "import re\n",
    "import csv\n",
    "from typing import Dict, List, Tuple\n",
    "import numpy as np\n",
    "from scipy import stats\n",
    "# from termcolor import colored\n",
    "import matplotlib\n",
    "import matplotlib.pyplot as plt\n",
    "import seaborn as sns\n",
    "from collections import Counter, defaultdict\n",
    "import torch"
   ]
  },
  {
   "cell_type": "code",
   "execution_count": 6,
   "metadata": {},
   "outputs": [],
   "source": [
    "def load_per_layer_influence(directory, test_idx, layer_i):\n",
    "    per_layer_dict = torch.load(f\"{directory}/influence_dict.pt\")\n",
    "    influence_list = per_layer_dict[layer_i][test_idx]\n",
    "    return influence_list"
   ]
  },
  {
   "cell_type": "code",
   "execution_count": 7,
   "metadata": {},
   "outputs": [],
   "source": [
    "with open(\"data/train.txt\", \"r\") as file:\n",
    "    train_examples = [line.strip() for line in file]\n",
    "with open(\"data/unrolled_train.txt\", \"r\") as file:\n",
    "    unrolled_train_examples = [line.strip() for line in file]\n",
    "with open(\"data/test.txt\", \"r\") as file:\n",
    "    test_examples = [line.strip() for line in file]\n",
    "    \n",
    "def see_example(data, idx):\n",
    "    example = data[idx]\n",
    "    correct, wrong = list(map(lambda x: x.split(), example.split(\"\\t\")))\n",
    "    for c, w in zip(correct, wrong):\n",
    "        if c != w:\n",
    "            o = '  ||  '.join(example.split('\\t'))\n",
    "            print(f\"{c} / {w}: {o}\")\n",
    "            return\n",
    "\n",
    "def see_train_example(data, idx, mode='correct'):\n",
    "    example = data[idx]\n",
    "    correct, wrong = list(map(lambda x: x.split(), example.split(\"\\t\")))\n",
    "    for c, w in zip(correct, wrong):\n",
    "        if c != w:\n",
    "            o = '  ||  '.join(example.split('\\t'))\n",
    "            if mode == 'incorrect':\n",
    "                print(f\"[{c}] / {w} (WRONG): {o}\")\n",
    "                return\n",
    "            print(f\"[{c}] / {w}: {o}\")\n",
    "            return\n",
    "        \n",
    "def see_example_key(data, idx, mode='correct'):\n",
    "    example = data[idx]\n",
    "    correct, wrong = list(map(lambda x: x.split(), example.split(\"\\t\")))\n",
    "    for c, w in zip(correct, wrong):\n",
    "        if c != w:\n",
    "            return f\"{c} / {w}\""
   ]
  },
  {
   "cell_type": "code",
   "execution_count": 8,
   "metadata": {},
   "outputs": [
    {
     "name": "stdout",
     "output_type": "stream",
     "text": [
      "are / is: note that neckties are cut on the bias ( diagonally ) , so the stripes on the source cloth are parallel or perpendicular to the selvage , not diagonal .  ||  note that neckties are cut on the bias ( diagonally ) , so the stripes on the source cloth is parallel or perpendicular to the selvage , not diagonal .\n"
     ]
    }
   ],
   "source": [
    "see_example(test_examples, 0)"
   ]
  },
  {
   "cell_type": "code",
   "execution_count": 9,
   "metadata": {},
   "outputs": [
    {
     "name": "stdout",
     "output_type": "stream",
     "text": [
      "[are] / is: travelling backwards in time and travelling faster than the speed of light ( which i expect are the two things you are really asking about ) are essentially the same thing , according to general relativity ( just from a different point of view ) .  ||  travelling backwards in time and travelling faster than the speed of light ( which i expect is the two things you are really asking about ) are essentially the same thing , according to general relativity ( just from a different point of view ) .\n"
     ]
    }
   ],
   "source": [
    "see_train_example(train_examples, 64)"
   ]
  },
  {
   "cell_type": "code",
   "execution_count": 10,
   "metadata": {},
   "outputs": [
    {
     "name": "stdout",
     "output_type": "stream",
     "text": [
      "[are] / is: the ruins of the abbey are open to the public and are privately owned .  ||  the ruins of the abbey is open to the public and are privately owned .\n"
     ]
    }
   ],
   "source": [
    "see_train_example(train_examples, 3384)"
   ]
  },
  {
   "cell_type": "code",
   "execution_count": 11,
   "metadata": {},
   "outputs": [
    {
     "name": "stdout",
     "output_type": "stream",
     "text": [
      "[is] / are: as a consequence of being mostly privately owned , the town is very opulently designed .  ||  as a consequence of being mostly privately owned , the town are very opulently designed .\n"
     ]
    }
   ],
   "source": [
    "see_train_example(unrolled_train_examples, 0)"
   ]
  },
  {
   "cell_type": "code",
   "execution_count": 12,
   "metadata": {},
   "outputs": [
    {
     "name": "stdout",
     "output_type": "stream",
     "text": [
      "[are] / is: as a consequence of being mostly privately owned , the town are very opulently designed .  ||  as a consequence of being mostly privately owned , the town is very opulently designed .\n"
     ]
    }
   ],
   "source": [
    "see_train_example(unrolled_train_examples, 7000)"
   ]
  },
  {
   "cell_type": "markdown",
   "metadata": {},
   "source": [
    "### Show most influential training examples"
   ]
  },
  {
   "cell_type": "code",
   "execution_count": 13,
   "metadata": {},
   "outputs": [],
   "source": [
    "def show_most_influential(directory, test_idx, mode='positive', per_layer=-1):\n",
    "    if per_layer == -1:\n",
    "        influence_list = pickle.load(open(f'{directory}/influence_test_idx_{test_idx}.pkl', 'rb'))\n",
    "    else:\n",
    "        influence_list = load_per_layer_influence(directory, test_idx, per_layer)\n",
    "    if mode == 'positive':\n",
    "        sorted_idx = np.argsort(influence_list)[::-1]\n",
    "    elif mode == 'negative':\n",
    "        sorted_idx = np.argsort(influence_list)\n",
    "    else:\n",
    "        raise ValueError('n/a')\n",
    "    see_example(test_examples, test_idx)\n",
    "    print()\n",
    "    print(\"test idx:\", test_idx, \" -- most influential train idx:\", sorted_idx[:10])\n",
    "    print(\"################\")\n",
    "    for idx in sorted_idx[:10]:\n",
    "        print()\n",
    "        if 'unroll' in directory:\n",
    "            if idx >= 7000:\n",
    "                see_train_example(unrolled_train_examples, idx, mode='incorrect')\n",
    "            else:\n",
    "                see_train_example(unrolled_train_examples, idx, mode='correct')\n",
    "        else:\n",
    "            see_train_example(train_examples, idx)"
   ]
  },
  {
   "cell_type": "code",
   "execution_count": 17,
   "metadata": {},
   "outputs": [],
   "source": [
    "def plot_most_influential(directory, test_idx, mode='positive', per_layer=-1):\n",
    "    if per_layer == -1:\n",
    "        influence_list = pickle.load(open(f'{directory}/influence_test_idx_{test_idx}.pkl', 'rb'))\n",
    "    else:\n",
    "        influence_list = load_per_layer_influence(directory, test_idx, per_layer)\n",
    "    if mode == 'positive':\n",
    "        sorted_idx = np.argsort(influence_list)[::-1]\n",
    "    elif mode == 'negative':\n",
    "        sorted_idx = np.argsort(influence_list)\n",
    "    else:\n",
    "        raise ValueError('n/a')\n",
    "    see_example(test_examples, test_idx)\n",
    "    test_key = see_example_key(test_examples, test_idx)\n",
    "    print()\n",
    "    print(\"test idx:\", test_idx, \" -- most influential train idx:\", sorted_idx)\n",
    "    print(\"################\")\n",
    "    correct_influence_ranks = []\n",
    "    incorrect_influence_ranks = []\n",
    "    for _i, idx in enumerate(sorted_idx):\n",
    "        if 'unroll' in directory:\n",
    "#             if set(see_example_key(unrolled_train_examples, idx).split(' / ')) != set(test_key.split(' / ')):\n",
    "#                 continue\n",
    "            if idx >= 7000:\n",
    "                incorrect_influence_ranks.append(_i)\n",
    "            else:\n",
    "                correct_influence_ranks.append(_i)\n",
    "        else:\n",
    "            pass\n",
    "    sns.distplot(correct_influence_ranks, label='correct')\n",
    "    sns.distplot(incorrect_influence_ranks, label='incorrect')\n",
    "    plt.legend()\n",
    "    plt.show()"
   ]
  },
  {
   "cell_type": "code",
   "execution_count": 18,
   "metadata": {},
   "outputs": [
    {
     "name": "stdout",
     "output_type": "stream",
     "text": [
      "are / is: safer alternatives are more expensive but are available .  ||  safer alternatives is more expensive but are available .\n",
      "\n",
      "test idx: 2  -- most influential train idx: [11011 10581  9365  8960  7361 10640 10589  7193 11434 13124]\n",
      "################\n",
      "\n",
      "[are] / is (WRONG): the answer to all of the above questions are yes .  ||  the answer to all of the above questions is yes .\n",
      "\n",
      "[are] / is (WRONG): the answer to both your questions are yes .  ||  the answer to both your questions is yes .\n",
      "\n",
      "[are] / is (WRONG): the problem with previous contributions to articles are obvious .  ||  the problem with previous contributions to articles is obvious .\n",
      "\n",
      "[are] / is (WRONG): see limit of a function for details on limits and why this order of operations are important .  ||  see limit of a function for details on limits and why this order of operations is important .\n",
      "\n",
      "[are] / is (WRONG): a major reason why lists are preferred in some cases over categories are the ability to annotate .  ||  a major reason why lists are preferred in some cases over categories is the ability to annotate .\n",
      "\n",
      "[are] / is (WRONG): the problem with arguing by examples when you just pick examples of unrelated things that are bad are .  ||  the problem with arguing by examples when you just pick examples of unrelated things that are bad is .\n",
      "\n",
      "[are] / is (WRONG): the point about various other sites with more than 600 members not having entries are superfluous .  ||  the point about various other sites with more than 600 members not having entries is superfluous .\n",
      "\n",
      "[are] / is (WRONG): the school catchment area are 4 .  ||  the school catchment area is 4 .\n",
      "\n",
      "[are] / is (WRONG): the article itself are high quality .  ||  the article itself is high quality .\n",
      "\n",
      "[are] / is (WRONG): the average time before the nominations are announced are thus around 8 days .  ||  the average time before the nominations are announced is thus around 8 days .\n"
     ]
    }
   ],
   "source": [
    "show_most_influential('unrolled_train_GC_outputs', 2, mode='positive')"
   ]
  },
  {
   "cell_type": "code",
   "execution_count": 19,
   "metadata": {},
   "outputs": [
    {
     "name": "stdout",
     "output_type": "stream",
     "text": [
      "try / tries: while trying to be good wives and mothers , the four friends also try to find out why their friend committed suicide .  ||  while trying to be good wives and mothers , the four friends also tries to find out why their friend committed suicide .\n",
      "\n",
      "test idx: 4  -- most influential train idx: [ 6776  5981  1816 ... 10778 11243 12981]\n",
      "################\n"
     ]
    },
    {
     "data": {
      "image/png": "[encoded data removed]",
      "text/plain": [
       "<Figure size 432x288 with 1 Axes>"
      ]
     },
     "metadata": {
      "needs_background": "light"
     },
     "output_type": "display_data"
    }
   ],
   "source": [
    "plot_most_influential('unrolled_train_GC_outputs', 4)"
   ]
  },
  {
   "cell_type": "code",
   "execution_count": 33,
   "metadata": {},
   "outputs": [
    {
     "name": "stdout",
     "output_type": "stream",
     "text": [
      "are / is: safer alternatives are more expensive but are available .  ||  safer alternatives is more expensive but are available .\n",
      "\n",
      "test idx: 2  -- most influential train idx: [3169 1383  964  694 1541 6982 4272 5046 5977 3582]\n",
      "################\n",
      "\n",
      "[are] / is: fruits near the center of the flower head are rough , while those growing along the edges of the head are smooth .  ||  fruits near the center of the flower head is rough , while those growing along the edges of the head are smooth .\n",
      "\n",
      "[relate] / relates: reasons for emigration vary , but generally relate to a combination of economic and political concerns .  ||  reasons for emigration vary , but generally relates to a combination of economic and political concerns .\n",
      "\n",
      "[include] / includes: symptoms of dust pneumonia include high fever , chest pain , difficulty in breathing , and coughing .  ||  symptoms of dust pneumonia includes high fever , chest pain , difficulty in breathing , and coughing .\n",
      "\n",
      "[are] / is: critics of the referendum argue that voters in a referendum are more likely driven by transient whims than careful deliberation , or that they are not sufficiently informed to make decisions on complicated or technical issues .  ||  critics of the referendum argue that voters in a referendum is more likely driven by transient whims than careful deliberation , or that they are not sufficiently informed to make decisions on complicated or technical issues .\n",
      "\n",
      "[grow] / grows: the species in this genus vary in size , but generally grow to about 1-2 feet and form in clumps .  ||  the species in this genus vary in size , but generally grows to about 1-2 feet and form in clumps .\n",
      "\n",
      "[include] / includes: songs from this period include `` i ca n't give you anything but love '' , `` exactly like you '' , and `` on the sunny side of the street .  ||  songs from this period includes `` i ca n't give you anything but love '' , `` exactly like you '' , and `` on the sunny side of the street .\n",
      "\n",
      "[include] / includes: additional elements present on the monument include the coat of arms of poland and the coat of arms of georgia .  ||  additional elements present on the monument includes the coat of arms of poland and the coat of arms of georgia .\n",
      "\n",
      "[affect] / affects: changes to the campaign finance landscape affect each of these political participants , and continually alter the balance of influence amongst them .  ||  changes to the campaign finance landscape affects each of these political participants , and continually alter the balance of influence amongst them .\n",
      "\n",
      "[is] / are: the sum of the lengths of the lines is a fixed value , regardless of the position of the point .  ||  the sum of the lengths of the lines are a fixed value , regardless of the position of the point .\n",
      "\n",
      "[is] / are: acupuncture points may exhibit low electrical resistance and impedance but this evidence is mixed , and limited by poor-quality studies with small sample sizes and multiple confounding factors .  ||  acupuncture points may exhibit low electrical resistance and impedance but this evidence are mixed , and limited by poor-quality studies with small sample sizes and multiple confounding factors .\n"
     ]
    }
   ],
   "source": [
    "show_most_influential('init_GPT2_GC_per_layer_outputs', 2, mode='positive', per_layer=7)"
   ]
  },
  {
   "cell_type": "code",
   "execution_count": null,
   "metadata": {},
   "outputs": [],
   "source": []
  },
  {
   "cell_type": "code",
   "execution_count": 2,
   "metadata": {},
   "outputs": [
    {
     "name": "stdout",
     "output_type": "stream",
     "text": [
      "test idx: 0  -- most influential train idx: [  64 3384 4935 5589 5104  135 6525 3810 3904 3639]\n",
      "test idx: 1  -- most influential train idx: [ 300 3430 4990 1754  626 5086 3964 5361 4143 2092]\n",
      "test idx: 2  -- most influential train idx: [  64 3384 5589 5309 4872 1795 4935 4127 3639 4176]\n",
      "test idx: 3  -- most influential train idx: [2239 2617 5428 4896 3002 3776 3347 1607 5741 1870]\n",
      "test idx: 4  -- most influential train idx: [6776 5981 1816 4243 4139  919 6011 2274 1404 5247]\n",
      "test idx: 5  -- most influential train idx: [4284 1444 1814 3768 3433 5188 5920 2359 4994 4627]\n",
      "test idx: 6  -- most influential train idx: [ 300 3430 4990 1754 5361 3964 5086 2092  626 6927]\n",
      "test idx: 7  -- most influential train idx: [  64 3384 4176 2171 4872 5970  991 4127 4274 5589]\n",
      "test idx: 8  -- most influential train idx: [  64 1960 3384 3810 3639 4872 5970 4935 4176  645]\n",
      "test idx: 9  -- most influential train idx: [ 300 3430 1754 4990 5086 5361 3964 2092 1630 4143]\n",
      "test idx: 10  -- most influential train idx: [5606 1552 5259 4636 5181 6526 3328  195 6224 5396]\n",
      "test idx: 11  -- most influential train idx: [2080   79 1604 2266 5438  280 3932 4657 1979 5118]\n",
      "test idx: 12  -- most influential train idx: [4993 4294 4204 2953 6040 3697   30 5669 1026 2229]\n",
      "test idx: 13  -- most influential train idx: [6667 6595 2232 1521  591 2619 1428 4924 5361 1081]\n",
      "test idx: 14  -- most influential train idx: [  64 3384 4872 1960 5970 4176 4274  991 2171 4127]\n",
      "test idx: 15  -- most influential train idx: [  64 4872 4176 3384 1960 3639 5970 5589 2171 4935]\n",
      "test idx: 16  -- most influential train idx: [3697 4294 6596 5583 6922 5361 4338 5774 2308 6708]\n",
      "test idx: 17  -- most influential train idx: [ 300 3430 3964 4990 6927 2092 5086 5361 1754 4143]\n",
      "test idx: 18  -- most influential train idx: [4283 4916 1469  598 4462 6462 3683 2770 1330  816]\n",
      "test idx: 19  -- most influential train idx: [  64 3384 1960 4872 5970 4176 2171 4274  991 5241]\n"
     ]
    }
   ],
   "source": [
    "for test_idx in range(0, 20):\n",
    "    influence_list = pickle.load(open(f'GC_outputs/influence_test_idx_{test_idx}.pkl', 'rb'))\n",
    "    print(\"test idx:\", test_idx, \" -- most influential train idx:\", np.argsort(influence_list)[::-1][:10])"
   ]
  },
  {
   "cell_type": "code",
   "execution_count": 3,
   "metadata": {},
   "outputs": [
    {
     "name": "stdout",
     "output_type": "stream",
     "text": [
      "test idx: 0  -- most influential train idx: [3099 3917   91 3179 5723 1452 1061 3414 4338  315]\n",
      "test idx: 1  -- most influential train idx: [5374 4956 4757  170 6346 3383 2486 6289 5421 1700]\n",
      "test idx: 2  -- most influential train idx: [  11 5932 4681 1795 4176 3977 2171 2095 4274 6779]\n",
      "test idx: 3  -- most influential train idx: [5605 2417 6322 4293  498 1097 4492 5878 3469  572]\n",
      "test idx: 4  -- most influential train idx: [4766 6011 6526 5981 5581 4094 6227 2959 6720   36]\n",
      "test idx: 5  -- most influential train idx: [5863   52 3582 6886 6072 6743 5352 6128   54 6786]\n",
      "test idx: 6  -- most influential train idx: [3105 3202 6730 2252  635 2681  388  576 3480 6633]\n",
      "test idx: 7  -- most influential train idx: [3492 1346 2800 6525 5053 3059 4157  620 4432 2990]\n",
      "test idx: 8  -- most influential train idx: [ 192 6965 4511 4621 1764 6680 6438 2663 5963 4942]\n",
      "test idx: 9  -- most influential train idx: [3099  576 3074 2589 3046 2070 5450 6157  486 4381]\n",
      "test idx: 10  -- most influential train idx: [3354 2207 3328 3418 1298  774 1677 5613 4214 3989]\n",
      "test idx: 11  -- most influential train idx: [4728 3917 3285 6280 1155 6254 5735 5087   79 5089]\n",
      "test idx: 12  -- most influential train idx: [3515 3815 3027 3334 4328  791 6840 6948 5329 6691]\n",
      "test idx: 13  -- most influential train idx: [4134 2619 4311  525 3912 3233 6683  676 5461 4896]\n",
      "test idx: 14  -- most influential train idx: [5172 1347  177 6766  397 6176 5839  567 6007 3084]\n",
      "test idx: 15  -- most influential train idx: [1713 6341 3494 3892 5267 5222 5398  949 3835 1892]\n",
      "test idx: 16  -- most influential train idx: [6547 2169 1522 2119 3509 4957 5129 2810  220 2348]\n",
      "test idx: 17  -- most influential train idx: [4896 3144 6011 4311   26  389 5151 2425 4259 2239]\n",
      "test idx: 18  -- most influential train idx: [2258 4710 5057 2636 2325 5855 4100 1076 4062 4511]\n",
      "test idx: 19  -- most influential train idx: [2192 1474 2308 4619 4819 5452 4612 4485 2698  939]\n"
     ]
    }
   ],
   "source": [
    "for test_idx in range(0, 20):\n",
    "    influence_list = pickle.load(open(f'GC_nocontra_outputs/influence_test_idx_{test_idx}.pkl', 'rb'))\n",
    "    print(\"test idx:\", test_idx, \" -- most influential train idx:\", np.argsort(influence_list)[::-1][:10])"
   ]
  },
  {
   "cell_type": "code",
   "execution_count": null,
   "metadata": {},
   "outputs": [],
   "source": []
  },
  {
   "cell_type": "code",
   "execution_count": 4,
   "metadata": {},
   "outputs": [
    {
     "data": {
      "text/plain": [
       "<matplotlib.axes._subplots.AxesSubplot at 0x7fceeed424a8>"
      ]
     },
     "execution_count": 4,
     "metadata": {},
     "output_type": "execute_result"
    },
    {
     "data": {
      "image/png": "[encoded data removed]",
      "text/plain": [
       "<Figure size 432x288 with 1 Axes>"
      ]
     },
     "metadata": {
      "needs_background": "light"
     },
     "output_type": "display_data"
    }
   ],
   "source": [
    "test_idx = 0\n",
    "\n",
    "influence_list = pickle.load(open(f'GC_outputs/influence_test_idx_{test_idx}.pkl', 'rb'))\n",
    "sns.distplot(influence_list)"
   ]
  },
  {
   "cell_type": "code",
   "execution_count": 5,
   "metadata": {},
   "outputs": [
    {
     "name": "stdout",
     "output_type": "stream",
     "text": [
      "Top-1 set cardinality: 11 (20 test examples)\n",
      "Top-10 set cardinality: 120 (20 test examples)\n"
     ]
    }
   ],
   "source": [
    "test_idx_lb = 0\n",
    "test_idx_ub = 20\n",
    "influence_file_dir = 'GC_outputs/'\n",
    "\n",
    "top_1_inf_ex_set = set()\n",
    "top_10_inf_ex_set = set()\n",
    "\n",
    "for test_idx in range(test_idx_lb, test_idx_ub):\n",
    "    influence_list = pickle.load(open(f'{influence_file_dir}influence_test_idx_{test_idx}.pkl', 'rb'))\n",
    "    inf_sorted_idx = list(np.argsort(influence_list))\n",
    "    inf_sorted_idx.reverse()\n",
    "    for _i, isi in enumerate(inf_sorted_idx):\n",
    "        if _i < 1:\n",
    "            top_1_inf_ex_set.add(isi)\n",
    "        if _i < 10:\n",
    "            top_10_inf_ex_set.add(isi)\n",
    "\n",
    "print('Top-1 set cardinality:', len(top_1_inf_ex_set), f'({test_idx_ub - test_idx_lb} test examples)')\n",
    "print('Top-10 set cardinality:', len(top_10_inf_ex_set), f'({test_idx_ub - test_idx_lb} test examples)')"
   ]
  },
  {
   "cell_type": "code",
   "execution_count": 6,
   "metadata": {},
   "outputs": [
    {
     "name": "stdout",
     "output_type": "stream",
     "text": [
      "Top-1 set cardinality: 19 (20 test examples)\n",
      "Top-10 set cardinality: 193 (20 test examples)\n"
     ]
    }
   ],
   "source": [
    "test_idx_lb = 0\n",
    "test_idx_ub = 20\n",
    "influence_file_dir = 'GC_nocontra_outputs/'\n",
    "\n",
    "top_1_inf_ex_set = set()\n",
    "top_10_inf_ex_set = set()\n",
    "\n",
    "for test_idx in range(test_idx_lb, test_idx_ub):\n",
    "    influence_list = pickle.load(open(f'{influence_file_dir}influence_test_idx_{test_idx}.pkl', 'rb'))\n",
    "    inf_sorted_idx = list(np.argsort(influence_list))\n",
    "    inf_sorted_idx.reverse()\n",
    "    for _i, isi in enumerate(inf_sorted_idx):\n",
    "        if _i < 1:\n",
    "            top_1_inf_ex_set.add(isi)\n",
    "        if _i < 10:\n",
    "            top_10_inf_ex_set.add(isi)\n",
    "\n",
    "print('Top-1 set cardinality:', len(top_1_inf_ex_set), f'({test_idx_ub - test_idx_lb} test examples)')\n",
    "print('Top-10 set cardinality:', len(top_10_inf_ex_set), f'({test_idx_ub - test_idx_lb} test examples)')"
   ]
  },
  {
   "cell_type": "code",
   "execution_count": null,
   "metadata": {},
   "outputs": [],
   "source": []
  }
 ],
 "metadata": {
  "kernelspec": {
   "display_name": "Python 3",
   "language": "python",
   "name": "python3"
  },
  "language_info": {
   "codemirror_mode": {
    "name": "ipython",
    "version": 3
   },
   "file_extension": ".py",
   "mimetype": "text/x-python",
   "name": "python",
   "nbconvert_exporter": "python",
   "pygments_lexer": "ipython3",
   "version": "3.7.3"
  }
 },
 "nbformat": 4,
 "nbformat_minor": 4
}
